{
 "cells": [
  {
   "cell_type": "markdown",
   "id": "60295df2-e911-475d-b68b-9bbcb396ed11",
   "metadata": {},
   "source": [
    "Step 1: Load and Merge Data\n",
    "We first need to load the datasets and merge them into a single DataFrame."
   ]
  },
  {
   "cell_type": "code",
   "execution_count": 11,
   "id": "8b4c428b-8ed0-4abf-9ea4-50a7c1690bed",
   "metadata": {
    "scrolled": true
   },
   "outputs": [
    {
     "name": "stdout",
     "output_type": "stream",
     "text": [
      "  TransactionID CustomerID ProductID      TransactionDate  Quantity  \\\n",
      "0        T00001      C0199      P067  2024-08-25 12:38:23         1   \n",
      "1        T00112      C0146      P067  2024-05-27 22:23:54         1   \n",
      "2        T00166      C0127      P067  2024-04-25 07:38:55         1   \n",
      "3        T00272      C0087      P067  2024-03-26 22:55:37         2   \n",
      "4        T00363      C0070      P067  2024-03-21 15:10:10         3   \n",
      "\n",
      "   TotalValue  Price_x     CustomerName         Region  SignupDate  \\\n",
      "0      300.68   300.68   Andrea Jenkins         Europe  2022-12-03   \n",
      "1      300.68   300.68  Brittany Harvey           Asia  2024-09-04   \n",
      "2      300.68   300.68  Kathryn Stevens         Europe  2024-04-04   \n",
      "3      601.36   300.68  Travis Campbell  South America  2024-04-11   \n",
      "4      902.04   300.68    Timothy Perez         Europe  2022-03-15   \n",
      "\n",
      "                       ProductName     Category  Price_y  \n",
      "0  ComfortLiving Bluetooth Speaker  Electronics   300.68  \n",
      "1  ComfortLiving Bluetooth Speaker  Electronics   300.68  \n",
      "2  ComfortLiving Bluetooth Speaker  Electronics   300.68  \n",
      "3  ComfortLiving Bluetooth Speaker  Electronics   300.68  \n",
      "4  ComfortLiving Bluetooth Speaker  Electronics   300.68  \n"
     ]
    }
   ],
   "source": [
    "import pandas as pd\n",
    "\n",
    "# Load datasets\n",
    "customers = pd.read_csv(\"Customers.csv\")\n",
    "products = pd.read_csv(\"Products.csv\")\n",
    "transactions = pd.read_csv(\"Transactions.csv\")\n",
    "\n",
    "# Merge datasets\n",
    "merged_data = transactions.merge(customers, on=\"CustomerID\").merge(products, on=\"ProductID\")\n",
    "\n",
    "# Display the first few rows of the merged data\n",
    "print(merged_data.head())\n"
   ]
  },
  {
   "cell_type": "markdown",
   "id": "92deb210-68f1-4783-ac5a-dd4b43a6c2e5",
   "metadata": {},
   "source": [
    "Step 2: Feature Engineering\n",
    "Aggregate data for each customer to create meaningful features:\n",
    "\n",
    "1. Total Spending: Sum of the TotalValue column for each customer.\n",
    "2. Transaction Count: Number of transactions.\n",
    "3. Most Purchased Category: The most frequently purchased product category."
   ]
  },
  {
   "cell_type": "code",
   "execution_count": 13,
   "id": "952f96e3-2f2e-4ded-bb8c-757fbf0fa8ea",
   "metadata": {},
   "outputs": [
    {
     "name": "stdout",
     "output_type": "stream",
     "text": [
      "            TotalSpending  TransactionCount  Category_Clothing  \\\n",
      "CustomerID                                                       \n",
      "C0001             3354.52                 5              False   \n",
      "C0002             1862.74                 4               True   \n",
      "C0003             2725.38                 4              False   \n",
      "C0004             5354.88                 8              False   \n",
      "C0005             2034.24                 3              False   \n",
      "\n",
      "            Category_Electronics  Category_Home Decor  \n",
      "CustomerID                                             \n",
      "C0001                       True                False  \n",
      "C0002                      False                False  \n",
      "C0003                      False                 True  \n",
      "C0004                      False                False  \n",
      "C0005                       True                False  \n"
     ]
    }
   ],
   "source": [
    "# Aggregate customer features\n",
    "customer_features = merged_data.groupby(\"CustomerID\").agg({\n",
    "    \"TotalValue\": \"sum\",  # Total spending\n",
    "    \"TransactionID\": \"count\",  # Transaction count\n",
    "    \"Category\": lambda x: x.mode()[0]  # Most purchased category\n",
    "}).rename(columns={\"TotalValue\": \"TotalSpending\", \"TransactionID\": \"TransactionCount\"})\n",
    "\n",
    "# One-hot encode the 'Category' column\n",
    "customer_features = pd.get_dummies(customer_features, columns=[\"Category\"], drop_first=True)\n",
    "\n",
    "# Display the first few rows\n",
    "print(customer_features.head())\n"
   ]
  },
  {
   "cell_type": "markdown",
   "id": "c7c59600-57f9-45d7-8108-e732c5769157",
   "metadata": {},
   "source": [
    "Step 3: One-Hot Encoding and Normalization\n",
    "Convert categorical features into numerical values using one-hot encoding, and scale the numerical columns to a 0–1 range."
   ]
  },
  {
   "cell_type": "code",
   "execution_count": 17,
   "id": "527f504f-75d6-4181-8273-2c1294c84f5f",
   "metadata": {},
   "outputs": [
    {
     "name": "stdout",
     "output_type": "stream",
     "text": [
      "            TotalSpending  TransactionCount  Category_Clothing  \\\n",
      "CustomerID                                                       \n",
      "C0001             3354.52               0.4                0.0   \n",
      "C0002             1862.74               0.3                1.0   \n",
      "C0003             2725.38               0.3                0.0   \n",
      "C0004             5354.88               0.7                0.0   \n",
      "C0005             2034.24               0.2                0.0   \n",
      "\n",
      "            Category_Electronics  Category_Home Decor  \n",
      "CustomerID                                             \n",
      "C0001                        1.0                  0.0  \n",
      "C0002                        0.0                  0.0  \n",
      "C0003                        0.0                  1.0  \n",
      "C0004                        0.0                  0.0  \n",
      "C0005                        1.0                  0.0  \n"
     ]
    }
   ],
   "source": [
    "from sklearn.preprocessing import MinMaxScaler\n",
    "\n",
    "# Ensure all columns except 'CustomerID' are numeric and explicitly convert to float64\n",
    "customer_features.iloc[:, 1:] = customer_features.iloc[:, 1:].apply(lambda x: x.astype(float))\n",
    "\n",
    "# Normalize the numerical features using MinMaxScaler\n",
    "scaler = MinMaxScaler()\n",
    "customer_features.iloc[:, 1:] = scaler.fit_transform(customer_features.iloc[:, 1:])\n",
    "\n",
    "# Display the updated DataFrame\n",
    "print(customer_features.head())\n"
   ]
  },
  {
   "cell_type": "markdown",
   "id": "3aec7021-4679-4125-8ba0-c00531521046",
   "metadata": {},
   "source": [
    "Step 4: Determine Optimal Clusters\n",
    "We'll use the Davies-Bouldin Index (DB Index) to identify the optimal number of clusters. A lower DB Index indicates better clustering."
   ]
  },
  {
   "cell_type": "code",
   "execution_count": 19,
   "id": "ed2e381d-3b05-4ba0-8dcc-5e28d7008f06",
   "metadata": {},
   "outputs": [
    {
     "name": "stdout",
     "output_type": "stream",
     "text": [
      "Number of Clusters: 2, DB Index: 0.751\n",
      "Number of Clusters: 3, DB Index: 0.644\n",
      "Number of Clusters: 4, DB Index: 0.354\n",
      "Number of Clusters: 5, DB Index: 0.365\n",
      "Number of Clusters: 6, DB Index: 0.462\n",
      "Number of Clusters: 7, DB Index: 0.475\n",
      "Number of Clusters: 8, DB Index: 0.478\n",
      "Number of Clusters: 9, DB Index: 0.526\n",
      "Number of Clusters: 10, DB Index: 0.487\n",
      "Optimal Number of Clusters: 4\n"
     ]
    }
   ],
   "source": [
    "from sklearn.cluster import KMeans\n",
    "from sklearn.metrics import davies_bouldin_score\n",
    "\n",
    "# Calculate DB Index for clusters ranging from 2 to 10\n",
    "cluster_metrics = {}\n",
    "\n",
    "for k in range(2, 11):  # Try cluster sizes from 2 to 10\n",
    "    kmeans = KMeans(n_clusters=k, random_state=42)\n",
    "    labels = kmeans.fit_predict(customer_features.iloc[:, 1:])  # Exclude CustomerID\n",
    "    \n",
    "    # Calculate DB Index\n",
    "    db_index = davies_bouldin_score(customer_features.iloc[:, 1:], labels)\n",
    "    cluster_metrics[k] = db_index\n",
    "    print(f\"Number of Clusters: {k}, DB Index: {db_index:.3f}\")\n",
    "\n",
    "# Find the optimal number of clusters\n",
    "optimal_k = min(cluster_metrics, key=cluster_metrics.get)\n",
    "print(f\"Optimal Number of Clusters: {optimal_k}\")\n"
   ]
  },
  {
   "cell_type": "markdown",
   "id": "fe6b2d84-c777-46e4-b0ff-a04a48df13ff",
   "metadata": {},
   "source": [
    "Step 5: Apply Final K-Means Model\n",
    "Fit the K-Means model with the optimal number of clusters and assign clusters to each customer."
   ]
  },
  {
   "cell_type": "code",
   "execution_count": 21,
   "id": "9e8082ef-8e9d-431e-ac88-66dedf2364bf",
   "metadata": {},
   "outputs": [
    {
     "name": "stdout",
     "output_type": "stream",
     "text": [
      "            TotalSpending  TransactionCount  Category_Clothing  \\\n",
      "CustomerID                                                       \n",
      "C0001             3354.52               0.4                0.0   \n",
      "C0002             1862.74               0.3                1.0   \n",
      "C0003             2725.38               0.3                0.0   \n",
      "C0004             5354.88               0.7                0.0   \n",
      "C0005             2034.24               0.2                0.0   \n",
      "\n",
      "            Category_Electronics  Category_Home Decor  Cluster  \n",
      "CustomerID                                                      \n",
      "C0001                        1.0                  0.0        1  \n",
      "C0002                        0.0                  0.0        3  \n",
      "C0003                        0.0                  1.0        2  \n",
      "C0004                        0.0                  0.0        0  \n",
      "C0005                        1.0                  0.0        1  \n"
     ]
    }
   ],
   "source": [
    "# Fit the final K-Means model\n",
    "final_kmeans = KMeans(n_clusters=optimal_k, random_state=42)\n",
    "customer_features[\"Cluster\"] = final_kmeans.fit_predict(customer_features.iloc[:, 1:])\n",
    "\n",
    "# Display the first few rows with cluster assignments\n",
    "print(customer_features.head())\n"
   ]
  },
  {
   "cell_type": "markdown",
   "id": "426f7e09-bf73-4819-b50f-aa959be2c159",
   "metadata": {},
   "source": [
    "Step 6: Visualize Clusters\n",
    "Reduce the data to two dimensions using PCA and plot the clusters."
   ]
  },
  {
   "cell_type": "code",
   "execution_count": 33,
   "id": "ba994210-23b4-4905-b3f1-c05658b549b5",
   "metadata": {},
   "outputs": [
    {
     "data": {
      "image/png": "[encoded data removed]",
      "text/plain": [
       "<Figure size 1000x600 with 1 Axes>"
      ]
     },
     "metadata": {},
     "output_type": "display_data"
    }
   ],
   "source": [
    "'''import matplotlib.pyplot as plt\n",
    "import seaborn as sns\n",
    "import pandas as pd\n",
    "from sklearn.decomposition import PCA\n",
    "\n",
    "# Assuming customer_features is already defined\n",
    "# Reduce features to 2 dimensions\n",
    "pca = PCA(n_components=2)\n",
    "reduced_features = pca.fit_transform(customer_features.iloc[:, 1:-1])  # Exclude CustomerID and Cluster\n",
    "\n",
    "# Create a DataFrame for visualization\n",
    "reduced_df = pd.DataFrame(reduced_features, columns=[\"PC1\", \"PC2\"])\n",
    "reduced_df[\"Cluster\"] = customer_features[\"Cluster\"]\n",
    "\n",
    "# Ensure 'Cluster' column is treated as a categorical variable\n",
    "reduced_df[\"Cluster\"] = reduced_df[\"Cluster\"].astype(str)\n",
    "\n",
    "# Scatter plot of clusters\n",
    "plt.figure(figsize=(10, 6))\n",
    "sns.scatterplot(data=reduced_df, x=\"PC1\", y=\"PC2\", hue=\"Cluster\", palette=\"Set2\", s=100)\n",
    "plt.title(\"Customer Clusters (PCA Reduced)\", fontsize=14)\n",
    "plt.xlabel(\"Principal Component 1\")\n",
    "plt.ylabel(\"Principal Component 2\")\n",
    "\n",
    "# Manually add legend\n",
    "handles, labels = plt.gca().get_legend_handles_labels()\n",
    "plt.legend(handles=handles, labels=labels, title=\"Cluster\")\n",
    "\n",
    "plt.show()'''\n",
    "\n",
    "# Create a DataFrame for PCA-reduced features\n",
    "reduced_df = pd.DataFrame(reduced_features, columns=[\"PC1\", \"PC2\"])\n",
    "\n",
    "# Add the 'Cluster' column from customer_features\n",
    "reduced_df[\"Cluster\"] = customer_features[\"Cluster\"].values\n",
    "\n",
    "# Scatter plot of clusters\n",
    "plt.figure(figsize=(10, 6))\n",
    "sns.scatterplot(data=reduced_df, x=\"PC1\", y=\"PC2\", hue=\"Cluster\", palette=\"Set2\", s=100)\n",
    "plt.title(\"Customer Clusters (PCA Reduced)\", fontsize=14)\n",
    "plt.xlabel(\"Principal Component 1\")\n",
    "plt.ylabel(\"Principal Component 2\")\n",
    "plt.legend(title=\"Cluster\")\n",
    "plt.show()\n",
    "\n"
   ]
  },
  {
   "cell_type": "markdown",
   "id": "ad213fef-5221-489b-be38-ab3e485fcf11",
   "metadata": {},
   "source": [
    "Step 7: Save Results\n",
    "Save the cluster assignments and DB Index metrics to CSV files."
   ]
  },
  {
   "cell_type": "code",
   "execution_count": 35,
   "id": "0c82a4e3-eabc-4ab7-b633-bd1cb8b2e37e",
   "metadata": {},
   "outputs": [
    {
     "name": "stdout",
     "output_type": "stream",
     "text": [
      "Clustering results and metrics saved as CSV files.\n"
     ]
    }
   ],
   "source": [
    "# Save customer features with cluster assignments\n",
    "customer_features.to_csv(\"FirstName_LastName_Clustering.csv\", index=False)\n",
    "\n",
    "# Save DB Index values\n",
    "db_index_df = pd.DataFrame(list(cluster_metrics.items()), columns=[\"Number of Clusters\", \"DB Index\"])\n",
    "db_index_df.to_csv(\"FirstName_LastName_DBIndex.csv\", index=False)\n",
    "\n",
    "print(\"Clustering results and metrics saved as CSV files.\")\n"
   ]
  }
 ],
 "metadata": {
  "kernelspec": {
   "display_name": "Python 3 (ipykernel)",
   "language": "python",
   "name": "python3"
  },
  "language_info": {
   "codemirror_mode": {
    "name": "ipython",
    "version": 3
   },
   "file_extension": ".py",
   "mimetype": "text/x-python",
   "name": "python",
   "nbconvert_exporter": "python",
   "pygments_lexer": "ipython3",
   "version": "3.12.7"
  }
 },
 "nbformat": 4,
 "nbformat_minor": 5
}
