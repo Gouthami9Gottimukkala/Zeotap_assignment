{
 "cells": [
  {
   "cell_type": "markdown",
   "id": "a9ed0668-a87d-4b4f-ad50-aacc4b5f77a8",
   "metadata": {},
   "source": [
    "1. Load and Merge Data\n",
    "Start by loading the datasets into pandas DataFrames and merging them."
   ]
  },
  {
   "cell_type": "code",
   "execution_count": 1,
   "id": "93ba0ed7-3219-454c-9423-f13639dec0e3",
   "metadata": {},
   "outputs": [
    {
     "name": "stdout",
     "output_type": "stream",
     "text": [
      "  CustomerID        CustomerName         Region  SignupDate\n",
      "0      C0001    Lawrence Carroll  South America  2022-07-10\n",
      "1      C0002      Elizabeth Lutz           Asia  2022-02-13\n",
      "2      C0003      Michael Rivera  South America  2024-03-07\n",
      "3      C0004  Kathleen Rodriguez  South America  2022-10-09\n",
      "4      C0005         Laura Weber           Asia  2022-08-15\n",
      "  ProductID              ProductName     Category   Price\n",
      "0      P001     ActiveWear Biography        Books  169.30\n",
      "1      P002    ActiveWear Smartwatch  Electronics  346.30\n",
      "2      P003  ComfortLiving Biography        Books   44.12\n",
      "3      P004            BookWorld Rug   Home Decor   95.69\n",
      "4      P005          TechPro T-Shirt     Clothing  429.31\n",
      "  TransactionID CustomerID ProductID      TransactionDate  Quantity  \\\n",
      "0        T00001      C0199      P067  2024-08-25 12:38:23         1   \n",
      "1        T00112      C0146      P067  2024-05-27 22:23:54         1   \n",
      "2        T00166      C0127      P067  2024-04-25 07:38:55         1   \n",
      "3        T00272      C0087      P067  2024-03-26 22:55:37         2   \n",
      "4        T00363      C0070      P067  2024-03-21 15:10:10         3   \n",
      "\n",
      "   TotalValue   Price  \n",
      "0      300.68  300.68  \n",
      "1      300.68  300.68  \n",
      "2      300.68  300.68  \n",
      "3      601.36  300.68  \n",
      "4      902.04  300.68  \n"
     ]
    }
   ],
   "source": [
    "import pandas as pd\n",
    "\n",
    "# Read the uploaded CSV files\n",
    "customers = pd.read_csv(\"Customers.csv\")\n",
    "products = pd.read_csv(\"Products.csv\")\n",
    "transactions = pd.read_csv(\"Transactions.csv\")\n",
    "\n",
    "# Display the first few rows to ensure data is loaded correctly\n",
    "print(customers.head())\n",
    "print(products.head())\n",
    "print(transactions.head())\n"
   ]
  },
  {
   "cell_type": "code",
   "execution_count": 3,
   "id": "662648a1-50b7-41c1-b04e-a3cbebbcd398",
   "metadata": {},
   "outputs": [
    {
     "name": "stdout",
     "output_type": "stream",
     "text": [
      "  TransactionID CustomerID ProductID      TransactionDate  Quantity  \\\n",
      "0        T00001      C0199      P067  2024-08-25 12:38:23         1   \n",
      "1        T00112      C0146      P067  2024-05-27 22:23:54         1   \n",
      "2        T00166      C0127      P067  2024-04-25 07:38:55         1   \n",
      "3        T00272      C0087      P067  2024-03-26 22:55:37         2   \n",
      "4        T00363      C0070      P067  2024-03-21 15:10:10         3   \n",
      "\n",
      "   TotalValue  Price_x     CustomerName         Region  SignupDate  \\\n",
      "0      300.68   300.68   Andrea Jenkins         Europe  2022-12-03   \n",
      "1      300.68   300.68  Brittany Harvey           Asia  2024-09-04   \n",
      "2      300.68   300.68  Kathryn Stevens         Europe  2024-04-04   \n",
      "3      601.36   300.68  Travis Campbell  South America  2024-04-11   \n",
      "4      902.04   300.68    Timothy Perez         Europe  2022-03-15   \n",
      "\n",
      "                       ProductName     Category  Price_y  \n",
      "0  ComfortLiving Bluetooth Speaker  Electronics   300.68  \n",
      "1  ComfortLiving Bluetooth Speaker  Electronics   300.68  \n",
      "2  ComfortLiving Bluetooth Speaker  Electronics   300.68  \n",
      "3  ComfortLiving Bluetooth Speaker  Electronics   300.68  \n",
      "4  ComfortLiving Bluetooth Speaker  Electronics   300.68  \n"
     ]
    }
   ],
   "source": [
    "import pandas as pd\n",
    "\n",
    "# Load datasets\n",
    "customers = pd.read_csv(\"Customers.csv\")\n",
    "products = pd.read_csv(\"Products.csv\")\n",
    "transactions = pd.read_csv(\"Transactions.csv\")\n",
    "\n",
    "# Merge datasets\n",
    "merged_data = transactions.merge(customers, on=\"CustomerID\").merge(products, on=\"ProductID\")\n",
    "\n",
    "# Display a sample of the merged data\n",
    "print(merged_data.head())\n"
   ]
  },
  {
   "cell_type": "markdown",
   "id": "5be3efe3-b959-4f68-8860-3a7a2c64831c",
   "metadata": {},
   "source": [
    "2. Feature Engineering\n",
    "Generate relevant features for each customer, such as:\n",
    "\n",
    "Total Spending: Total value of transactions.\n",
    "Transaction Count: Number of transactions.\n",
    "Favorite Category: The product category most frequently purchased."
   ]
  },
  {
   "cell_type": "code",
   "execution_count": 5,
   "id": "fb68a5e2-96a5-4e49-89b8-e79bacf0df6e",
   "metadata": {},
   "outputs": [
    {
     "name": "stdout",
     "output_type": "stream",
     "text": [
      "  CustomerID  TotalSpending  TransactionCount     Category\n",
      "0      C0001        3354.52                 5  Electronics\n",
      "1      C0002        1862.74                 4     Clothing\n",
      "2      C0003        2725.38                 4   Home Decor\n",
      "3      C0004        5354.88                 8        Books\n",
      "4      C0005        2034.24                 3  Electronics\n"
     ]
    }
   ],
   "source": [
    "# Aggregate transaction data for each customer\n",
    "customer_features = merged_data.groupby(\"CustomerID\").agg({\n",
    "    \"TotalValue\": \"sum\",  # Total spending\n",
    "    \"TransactionID\": \"count\",  # Number of transactions\n",
    "    \"Category\": lambda x: x.mode()[0]  # Most purchased category\n",
    "}).rename(columns={\"TotalValue\": \"TotalSpending\", \"TransactionID\": \"TransactionCount\"})\n",
    "\n",
    "# Reset the index for easy handling\n",
    "customer_features.reset_index(inplace=True)\n",
    "print(customer_features.head())\n"
   ]
  },
  {
   "cell_type": "markdown",
   "id": "e360c9d4-4418-42fe-a0a6-62df968ad8f2",
   "metadata": {},
   "source": [
    "3. Normalize Features\n",
    "Scale numerical features to ensure fair comparison."
   ]
  },
  {
   "cell_type": "code",
   "execution_count": 9,
   "id": "cee899e7-3618-470c-9208-62a2f4038e96",
   "metadata": {},
   "outputs": [
    {
     "name": "stdout",
     "output_type": "stream",
     "text": [
      "  CustomerID  TotalSpending  TransactionCount     Category\n",
      "0      C0001       0.308942               0.4  Electronics\n",
      "1      C0002       0.168095               0.3     Clothing\n",
      "2      C0003       0.249541               0.3   Home Decor\n",
      "3      C0004       0.497806               0.7        Books\n",
      "4      C0005       0.184287               0.2  Electronics\n"
     ]
    }
   ],
   "source": [
    "from sklearn.preprocessing import MinMaxScaler\n",
    "\n",
    "# Normalize numerical features\n",
    "scaler = MinMaxScaler()\n",
    "customer_features[[\"TotalSpending\", \"TransactionCount\"]] = scaler.fit_transform(\n",
    "    customer_features[[\"TotalSpending\", \"TransactionCount\"]]\n",
    ")\n",
    "print(customer_features.head())\n"
   ]
  },
  {
   "cell_type": "markdown",
   "id": "e481f882-1441-4e58-a2d3-f387d5d9a8c3",
   "metadata": {},
   "source": [
    "4. Calculate Similarity\n",
    "Use cosine similarity to measure similarity between customers based on their features."
   ]
  },
  {
   "cell_type": "code",
   "execution_count": 11,
   "id": "d079186e-16c2-4893-8a29-34daeb847ad5",
   "metadata": {},
   "outputs": [
    {
     "name": "stdout",
     "output_type": "stream",
     "text": [
      "CustomerID     C0001     C0002     C0003     C0004     C0005     C0006  \\\n",
      "CustomerID                                                               \n",
      "C0001       1.000000  0.989226  0.999346  0.999221  0.996229  0.966611   \n",
      "C0002       0.989226  1.000000  0.983283  0.994234  0.972792  0.918682   \n",
      "C0003       0.999346  0.983283  1.000000  0.997139  0.998715  0.975247   \n",
      "C0004       0.999221  0.994234  0.997139  1.000000  0.992027  0.955742   \n",
      "C0005       0.996229  0.972792  0.998715  0.992027  1.000000  0.985199   \n",
      "\n",
      "CustomerID     C0007     C0008     C0009     C0010  ...     C0191     C0192  \\\n",
      "CustomerID                                          ...                       \n",
      "C0001       0.978093  0.970479  0.958036  0.983415  ...  0.998494  0.995197   \n",
      "C0002       0.937079  0.995332  0.989679  0.999372  ...  0.995768  0.998806   \n",
      "C0003       0.984983  0.961120  0.947041  0.976211  ...  0.995855  0.991005   \n",
      "C0004       0.969113  0.979243  0.968605  0.989808  ...  0.999881  0.998286   \n",
      "C0005       0.992466  0.945892  0.929551  0.963969  ...  0.989967  0.982950   \n",
      "\n",
      "CustomerID     C0193     C0194     C0195     C0196     C0197     C0198  \\\n",
      "CustomerID                                                               \n",
      "C0001       0.996242  0.992777  0.999867  0.943454  0.998246  0.999832   \n",
      "C0002       0.972827  0.999645  0.991483  0.884757  0.978823  0.986378   \n",
      "C0003       0.998723  0.987787  0.998622  0.954827  0.999734  0.999841   \n",
      "C0004       0.992046  0.996739  0.999732  0.929633  0.995131  0.998330   \n",
      "C0005       1.000000  0.978623  0.994680  0.968660  0.999618  0.997651   \n",
      "\n",
      "CustomerID     C0199     C0200  \n",
      "CustomerID                      \n",
      "C0001       0.992874  0.984371  \n",
      "C0002       0.999623  0.947984  \n",
      "C0003       0.987914  0.990097  \n",
      "C0004       0.996804  0.976652  \n",
      "C0005       0.978790  0.995939  \n",
      "\n",
      "[5 rows x 199 columns]\n"
     ]
    }
   ],
   "source": [
    "from sklearn.metrics.pairwise import cosine_similarity\n",
    "\n",
    "# Compute the cosine similarity matrix\n",
    "similarity_matrix = cosine_similarity(\n",
    "    customer_features[[\"TotalSpending\", \"TransactionCount\"]]\n",
    ")\n",
    "\n",
    "# Convert the similarity matrix to a DataFrame for easier handling\n",
    "similarity_df = pd.DataFrame(\n",
    "    similarity_matrix,\n",
    "    index=customer_features[\"CustomerID\"],\n",
    "    columns=customer_features[\"CustomerID\"]\n",
    ")\n",
    "print(similarity_df.head())\n"
   ]
  },
  {
   "cell_type": "code",
   "execution_count": null,
   "id": "c9849eff-881a-4494-aea9-bb029f0c62c1",
   "metadata": {},
   "outputs": [],
   "source": [
    "5. Find Top 3 Similar Customers\n",
    "Extract the top 3 similar customers for each of the first 20 customers (C0001 to C0020)."
   ]
  },
  {
   "cell_type": "code",
   "execution_count": 13,
   "id": "b46c16d4-c168-4e73-a641-ec37723a272b",
   "metadata": {},
   "outputs": [
    {
     "name": "stdout",
     "output_type": "stream",
     "text": [
      "{'C0001': [('C0173', 1.0), ('C0145', 1.0), ('C0137', 1.0)], 'C0002': [('C0103', 1.0), ('C0024', 1.0), ('C0034', 1.0)], 'C0003': [('C0155', 1.0), ('C0132', 1.0), ('C0107', 1.0)], 'C0004': [('C0164', 1.0), ('C0156', 1.0), ('C0021', 1.0)], 'C0005': [('C0193', 1.0), ('C0092', 1.0), ('C0100', 1.0)], 'C0006': [('C0138', 1.0), ('C0079', 1.0), ('C0148', 1.0)], 'C0007': [('C0082', 1.0), ('C0085', 1.0), ('C0171', 1.0)], 'C0008': [('C0047', 1.0), ('C0111', 1.0), ('C0157', 1.0)], 'C0009': [('C0019', 1.0), ('C0172', 1.0), ('C0161', 1.0)], 'C0010': [('C0084', 1.0), ('C0109', 1.0), ('C0184', 1.0)], 'C0011': [('C0022', 1.0), ('C0197', 1.0), ('C0046', 1.0)], 'C0012': [('C0102', 1.0), ('C0198', 1.0), ('C0136', 1.0)], 'C0013': [('C0100', 1.0), ('C0073', 1.0), ('C0064', 1.0)], 'C0014': [('C0014', 1.0), ('C0110', 1.0), ('C0097', 1.0)], 'C0015': [('C0149', 1.0), ('C0087', 1.0), ('C0053', 1.0)], 'C0016': [('C0099', 1.0), ('C0105', 1.0), ('C0048', 1.0)], 'C0017': [('C0086', 1.0), ('C0118', 1.0), ('C0192', 1.0)], 'C0018': [('C0141', 1.0), ('C0200', 1.0), ('C0042', 1.0)], 'C0019': [('C0172', 1.0), ('C0009', 1.0), ('C0161', 1.0)], 'C0020': [('C0014', 1.0), ('C0110', 1.0), ('C0097', 1.0)]}\n"
     ]
    }
   ],
   "source": [
    "# Function to find top 3 similar customers for a given customer\n",
    "def get_top_similar(customers, similarity_matrix, n=3):\n",
    "    results = {}\n",
    "    for customer_id in customers:\n",
    "        # Get similarity scores for the customer and sort them\n",
    "        scores = similarity_matrix.loc[customer_id].sort_values(ascending=False)\n",
    "        top_customers = scores.iloc[1:n+1]  # Exclude self (highest similarity)\n",
    "        results[customer_id] = list(zip(top_customers.index, top_customers.values.round(2)))\n",
    "    return results\n",
    "\n",
    "# Get the first 20 customers\n",
    "top_20_customers = customer_features[\"CustomerID\"][:20]\n",
    "top_similar_customers = get_top_similar(top_20_customers, similarity_df)\n",
    "\n",
    "# Display results\n",
    "print(top_similar_customers)\n"
   ]
  },
  {
   "cell_type": "markdown",
   "id": "ff1f6eba-d964-4181-ac09-88e43af39759",
   "metadata": {},
   "source": [
    "6. Save Output as Lookalike.csv\n",
    "Create a CSV file with the required format."
   ]
  },
  {
   "cell_type": "code",
   "execution_count": 15,
   "id": "5d87db57-4ab9-45dc-932b-b0bab8a611b4",
   "metadata": {},
   "outputs": [
    {
     "name": "stdout",
     "output_type": "stream",
     "text": [
      "Lookalike.csv saved!\n"
     ]
    }
   ],
   "source": [
    "# Convert the dictionary to a DataFrame\n",
    "lookalike_data = [\n",
    "    {\"CustomerID\": cust_id, \"Lookalikes\": str(similarities)}\n",
    "    for cust_id, similarities in top_similar_customers.items()\n",
    "]\n",
    "lookalike_df = pd.DataFrame(lookalike_data)\n",
    "\n",
    "# Save the output\n",
    "lookalike_df.to_csv(\"FirstName_LastName_Lookalike.csv\", index=False)\n",
    "print(\"Lookalike.csv saved!\")\n"
   ]
  }
 ],
 "metadata": {
  "kernelspec": {
   "display_name": "Python 3 (ipykernel)",
   "language": "python",
   "name": "python3"
  },
  "language_info": {
   "codemirror_mode": {
    "name": "ipython",
    "version": 3
   },
   "file_extension": ".py",
   "mimetype": "text/x-python",
   "name": "python",
   "nbconvert_exporter": "python",
   "pygments_lexer": "ipython3",
   "version": "3.12.7"
  }
 },
 "nbformat": 4,
 "nbformat_minor": 5
}
